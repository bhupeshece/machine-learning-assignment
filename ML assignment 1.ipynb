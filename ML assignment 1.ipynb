{
 "cells": [
  {
   "cell_type": "code",
   "execution_count": 1,
   "id": "1f8ea66a",
   "metadata": {},
   "outputs": [
    {
     "data": {
      "text/plain": [
       "'with the help of some equations we will be able to find \\nthe patterns between the datasets this is known as machine learning'"
      ]
     },
     "execution_count": 1,
     "metadata": {},
     "output_type": "execute_result"
    }
   ],
   "source": [
    "#Q1\n",
    "\"\"\"with the help of some equations we will be able to find \n",
    "the patterns between the datasets this is known as machine learning\"\"\""
   ]
  },
  {
   "cell_type": "code",
   "execution_count": 2,
   "id": "2506ba48",
   "metadata": {},
   "outputs": [
    {
     "data": {
      "text/plain": [
       "'\\n1. spam detection\\n2. fraud credit card transaction\\n3. house price prediction\\n4. flight price prediction\\n5. automatically driving vehicles\\n'"
      ]
     },
     "execution_count": 2,
     "metadata": {},
     "output_type": "execute_result"
    }
   ],
   "source": [
    "#Q2\n",
    "\"\"\"\n",
    "1. spam detection\n",
    "2. fraud credit card transaction\n",
    "3. house price prediction\n",
    "4. flight price prediction\n",
    "5. automatically driving vehicles\n",
    "\"\"\""
   ]
  },
  {
   "cell_type": "code",
   "execution_count": 3,
   "id": "1fed6ee6",
   "metadata": {},
   "outputs": [
    {
     "data": {
      "text/plain": [
       "'\\nThe labeled training set is used to train the algorithm \\nand that model is used to test set of predictions \\n'"
      ]
     },
     "execution_count": 3,
     "metadata": {},
     "output_type": "execute_result"
    }
   ],
   "source": [
    "#Q3\n",
    "\"\"\"\n",
    "The labeled training set is used to train the algorithm \n",
    "and that model is used to test set of predictions \n",
    "\"\"\""
   ]
  },
  {
   "cell_type": "code",
   "execution_count": 4,
   "id": "46f99d66",
   "metadata": {},
   "outputs": [
    {
     "data": {
      "text/plain": [
       "'\\n1. Regression\\n2. classification\\n'"
      ]
     },
     "execution_count": 4,
     "metadata": {},
     "output_type": "execute_result"
    }
   ],
   "source": [
    "#Q4\n",
    "\"\"\"\n",
    "1. Regression\n",
    "2. classification\n",
    "\"\"\""
   ]
  },
  {
   "cell_type": "code",
   "execution_count": 5,
   "id": "a879f8d7",
   "metadata": {},
   "outputs": [
    {
     "data": {
      "text/plain": [
       "'\\n1. clustring\\n2. visualization\\n3. dimensionality\\n4. association rule learning\\n'"
      ]
     },
     "execution_count": 5,
     "metadata": {},
     "output_type": "execute_result"
    }
   ],
   "source": [
    "#Q5\n",
    "\"\"\"\n",
    "1. clustring\n",
    "2. visualization\n",
    "3. dimensionality\n",
    "4. association rule learning\n",
    "\"\"\""
   ]
  },
  {
   "cell_type": "code",
   "execution_count": 6,
   "id": "1a241a41",
   "metadata": {},
   "outputs": [
    {
     "data": {
      "text/plain": [
       "'Reinforcement learning'"
      ]
     },
     "execution_count": 6,
     "metadata": {},
     "output_type": "execute_result"
    }
   ],
   "source": [
    "#Q6\n",
    "\"\"\"Reinforcement learning\"\"\""
   ]
  },
  {
   "cell_type": "code",
   "execution_count": 7,
   "id": "fa00b4cb",
   "metadata": {},
   "outputs": [
    {
     "data": {
      "text/plain": [
       "'K-mean clustering'"
      ]
     },
     "execution_count": 7,
     "metadata": {},
     "output_type": "execute_result"
    }
   ],
   "source": [
    "#Q7\n",
    "\"\"\"K-mean clustering\"\"\""
   ]
  },
  {
   "cell_type": "code",
   "execution_count": 8,
   "id": "d7ee59a0",
   "metadata": {},
   "outputs": [
    {
     "data": {
      "text/plain": [
       "'Supervised machine learning problem'"
      ]
     },
     "execution_count": 8,
     "metadata": {},
     "output_type": "execute_result"
    }
   ],
   "source": [
    "#Q8\n",
    "\"\"\"Supervised machine learning problem\"\"\""
   ]
  },
  {
   "cell_type": "code",
   "execution_count": 9,
   "id": "8d742843",
   "metadata": {},
   "outputs": [
    {
     "data": {
      "text/plain": [
       "'Online learning is same as real education which takes place over the internet '"
      ]
     },
     "execution_count": 9,
     "metadata": {},
     "output_type": "execute_result"
    }
   ],
   "source": [
    "#Q9\n",
    "\"\"\"Online learning is same as real education which takes place over the internet \"\"\""
   ]
  },
  {
   "cell_type": "code",
   "execution_count": 10,
   "id": "493dbdeb",
   "metadata": {},
   "outputs": [
    {
     "data": {
      "text/plain": [
       "'instance based algorithm'"
      ]
     },
     "execution_count": 10,
     "metadata": {},
     "output_type": "execute_result"
    }
   ],
   "source": [
    "#Q11\n",
    "\"\"\"instance based algorithm\"\"\""
   ]
  },
  {
   "cell_type": "code",
   "execution_count": 11,
   "id": "17c6c237",
   "metadata": {},
   "outputs": [
    {
     "data": {
      "text/plain": [
       "'\\nmodel parametes are the parameters that are in the model that is used in training data set\\nhyper parameters are the adjustable parameters that must be tuned to build a model\\n'"
      ]
     },
     "execution_count": 11,
     "metadata": {},
     "output_type": "execute_result"
    }
   ],
   "source": [
    "#Q12\n",
    "\"\"\"\n",
    "model parametes are the parameters that are in the model that is used in training data set\n",
    "hyper parameters are the adjustable parameters that must be tuned to build a model\n",
    "\"\"\""
   ]
  },
  {
   "cell_type": "code",
   "execution_count": 12,
   "id": "37f4bcee",
   "metadata": {},
   "outputs": [
    {
     "data": {
      "text/plain": [
       "'\\nModel based algorithm search for the optimal value of parameters in a model that will give the best results for new instances\\n'"
      ]
     },
     "execution_count": 12,
     "metadata": {},
     "output_type": "execute_result"
    }
   ],
   "source": [
    "#Q13\n",
    "\"\"\"\n",
    "Model based algorithm search for the optimal value of parameters in a model that will give the best results for new instances\n",
    "\"\"\""
   ]
  },
  {
   "cell_type": "code",
   "execution_count": 13,
   "id": "0f9fbcb2",
   "metadata": {},
   "outputs": [
    {
     "data": {
      "text/plain": [
       "'1. underfitting of training data\\n2. overfitting of training data\\n3. lack of training data \\n4. slow implementation\\n5. poor quality of data'"
      ]
     },
     "execution_count": 13,
     "metadata": {},
     "output_type": "execute_result"
    }
   ],
   "source": [
    "#Q14\n",
    "\"\"\"1. underfitting of training data\n",
    "2. overfitting of training data\n",
    "3. lack of training data \n",
    "4. slow implementation\n",
    "5. poor quality of data\"\"\""
   ]
  },
  {
   "cell_type": "code",
   "execution_count": 14,
   "id": "e547adcd",
   "metadata": {},
   "outputs": [
    {
     "data": {
      "text/plain": [
       "'\\n1.model evaluation\\n2.performance of the model is mismatched\\n'"
      ]
     },
     "execution_count": 14,
     "metadata": {},
     "output_type": "execute_result"
    }
   ],
   "source": [
    "#Q15\n",
    "\"\"\"\n",
    "1.model evaluation\n",
    "2.performance of the model is mismatched\n",
    "\"\"\""
   ]
  },
  {
   "cell_type": "code",
   "execution_count": 16,
   "id": "aa4644fb",
   "metadata": {},
   "outputs": [
    {
     "data": {
      "text/plain": [
       "'\\nTest data is used to check whether our algorithm is trained effectively or not.\\nIt hepls us to validate the results and adjust it for imporved results \\n'"
      ]
     },
     "execution_count": 16,
     "metadata": {},
     "output_type": "execute_result"
    }
   ],
   "source": [
    "#Q16\n",
    "\"\"\"\n",
    "Test data is used to check whether our algorithm is trained effectively or not.\n",
    "It hepls us to validate the results and adjust it for imporved results \n",
    "\"\"\""
   ]
  },
  {
   "cell_type": "code",
   "execution_count": 17,
   "id": "aba7ba95",
   "metadata": {},
   "outputs": [
    {
     "data": {
      "text/plain": [
       "'\\nIt is used to validate the model performance during traning '"
      ]
     },
     "execution_count": 17,
     "metadata": {},
     "output_type": "execute_result"
    }
   ],
   "source": [
    "#Q17\n",
    "\"\"\"\n",
    "It is used to validate the model performance during traning \"\"\""
   ]
  },
  {
   "cell_type": "code",
   "execution_count": 19,
   "id": "77bc85f1",
   "metadata": {},
   "outputs": [
    {
     "data": {
      "text/plain": [
       "'\\nIt is used to rank the models in terms of accuracy and helps to make decision which model to proceed\\n'"
      ]
     },
     "execution_count": 19,
     "metadata": {},
     "output_type": "execute_result"
    }
   ],
   "source": [
    "#Q18\n",
    "\"\"\"\n",
    "It is used to rank the models in terms of accuracy and helps to make decision which model to proceed\n",
    "\"\"\""
   ]
  },
  {
   "cell_type": "code",
   "execution_count": 20,
   "id": "9cc963e2",
   "metadata": {},
   "outputs": [
    {
     "data": {
      "text/plain": [
       "'we lose the possibility to find how good the model would actually be on unseen data'"
      ]
     },
     "execution_count": 20,
     "metadata": {},
     "output_type": "execute_result"
    }
   ],
   "source": [
    "#Q19\n",
    "\"\"\"we lose the possibility to find how good the model would actually be on unseen data\"\"\""
   ]
  },
  {
   "cell_type": "code",
   "execution_count": null,
   "id": "a828b43b",
   "metadata": {},
   "outputs": [],
   "source": []
  }
 ],
 "metadata": {
  "kernelspec": {
   "display_name": "Python 3 (ipykernel)",
   "language": "python",
   "name": "python3"
  },
  "language_info": {
   "codemirror_mode": {
    "name": "ipython",
    "version": 3
   },
   "file_extension": ".py",
   "mimetype": "text/x-python",
   "name": "python",
   "nbconvert_exporter": "python",
   "pygments_lexer": "ipython3",
   "version": "3.10.9"
  }
 },
 "nbformat": 4,
 "nbformat_minor": 5
}
