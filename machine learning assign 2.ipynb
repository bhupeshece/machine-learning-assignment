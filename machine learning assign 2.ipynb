{
 "cells": [
  {
   "cell_type": "code",
   "execution_count": 1,
   "id": "4feb2998",
   "metadata": {},
   "outputs": [
    {
     "data": {
      "text/plain": [
       "'\\nHuman learning is the process which requires higher order mental processes like their thinking,\\nknowledge, behaviours, skills, values, attitudes, intelligence etc.\\n\\nExamples:\\n1.Concept learning\\n2.verbal learning\\n'"
      ]
     },
     "execution_count": 1,
     "metadata": {},
     "output_type": "execute_result"
    }
   ],
   "source": [
    "#Q1\n",
    "\"\"\"\n",
    "Human learning is the process which requires higher order mental processes like their thinking,\n",
    "knowledge, behaviours, skills, values, attitudes, intelligence etc.\n",
    "\n",
    "Examples:\n",
    "1.Concept learning\n",
    "2.verbal learning\n",
    "\"\"\""
   ]
  },
  {
   "cell_type": "code",
   "execution_count": 2,
   "id": "059bb22a",
   "metadata": {},
   "outputs": [
    {
     "data": {
      "text/plain": [
       "'\\nThe different forms of human learning are :\\n>> classical conditioning\\n>> operant conditioning\\n>> observational learning\\n\\nThere arae Machine learning equivalents:\\n>> supervised learning\\n>> unsupervised learning\\n>> reinforcement learning\\n\\n'"
      ]
     },
     "execution_count": 2,
     "metadata": {},
     "output_type": "execute_result"
    }
   ],
   "source": [
    "#Q2\n",
    "\"\"\"\n",
    "The different forms of human learning are :\n",
    ">> classical conditioning\n",
    ">> operant conditioning\n",
    ">> observational learning\n",
    "\n",
    "There arae Machine learning equivalents:\n",
    ">> supervised learning\n",
    ">> unsupervised learning\n",
    ">> reinforcement learning\n",
    "\n",
    "\"\"\""
   ]
  },
  {
   "cell_type": "code",
   "execution_count": 3,
   "id": "0486138d",
   "metadata": {},
   "outputs": [
    {
     "data": {
      "text/plain": [
       "'\\nA machine learning is the process by using the data to training models.\\nThe models are used to automate processes like image classification, speech recognition etc.\\nA machine learning developer is an expert on using data to training models\\n'"
      ]
     },
     "execution_count": 3,
     "metadata": {},
     "output_type": "execute_result"
    }
   ],
   "source": [
    "#Q3\n",
    "\"\"\"\n",
    "A machine learning is the process by using the data to training models.\n",
    "The models are used to automate processes like image classification, speech recognition etc.\n",
    "A machine learning developer is an expert on using data to training models\n",
    "\"\"\""
   ]
  },
  {
   "cell_type": "code",
   "execution_count": 4,
   "id": "b8991caf",
   "metadata": {},
   "outputs": [
    {
     "data": {
      "text/plain": [
       "'\\nIn reinforcement learning agents are trained on a reward and punishment mechanism.\\nThe agent is rewarded for correct moves and punished for the wrong moves\\n'"
      ]
     },
     "execution_count": 4,
     "metadata": {},
     "output_type": "execute_result"
    }
   ],
   "source": [
    "#Q4\n",
    "\"\"\"\n",
    "In reinforcement learning agents are trained on a reward and punishment mechanism.\n",
    "The agent is rewarded for correct moves and punished for the wrong moves\n",
    "\"\"\""
   ]
  },
  {
   "cell_type": "code",
   "execution_count": 5,
   "id": "eddb6918",
   "metadata": {},
   "outputs": [
    {
     "data": {
      "text/plain": [
       "'\\nLearning can be viewed as a search through the space of all sentences in a concept description language for a sentence that best describes the data\\n\\nIn terms of machine learning the concept learning , problems of searching through a predefined space of \\npotential hypotheses for the hypothesis that best fits the training examples\\n'"
      ]
     },
     "execution_count": 5,
     "metadata": {},
     "output_type": "execute_result"
    }
   ],
   "source": [
    "#Q5\n",
    "\"\"\"\n",
    "Learning can be viewed as a search through the space of all sentences in a concept description language for a sentence that best describes the data\n",
    "\n",
    "In terms of machine learning the concept learning , problems of searching through a predefined space of \n",
    "potential hypotheses for the hypothesis that best fits the training examples\n",
    "\"\"\""
   ]
  },
  {
   "cell_type": "code",
   "execution_count": 6,
   "id": "848c735e",
   "metadata": {},
   "outputs": [
    {
     "data": {
      "text/plain": [
       "'\\n1.To make the computers smarter, more intelligent.\\n2.To develop computational model of human learning process and perform computer simulations\\n\\nThe relationship between machine learning and human learning is:\\nhuman acquire knowledge through experience either directly or shared by others.\\nmachines acquire knowledge through experience shared in the form of past data\\n'"
      ]
     },
     "execution_count": 6,
     "metadata": {},
     "output_type": "execute_result"
    }
   ],
   "source": [
    "#Q6\n",
    "\"\"\"\n",
    "1.To make the computers smarter, more intelligent.\n",
    "2.To develop computational model of human learning process and perform computer simulations\n",
    "\n",
    "The relationship between machine learning and human learning is:\n",
    "human acquire knowledge through experience either directly or shared by others.\n",
    "machines acquire knowledge through experience shared in the form of past data\n",
    "\"\"\""
   ]
  },
  {
   "cell_type": "code",
   "execution_count": 7,
   "id": "25190cb6",
   "metadata": {},
   "outputs": [
    {
     "data": {
      "text/plain": [
       "'\\n>> Image recognition\\n>> speech recognition\\n>> preditive analysis\\n>> extraction\\n>> statistical arbitrage\\n>> medical diagnosis\\n'"
      ]
     },
     "execution_count": 7,
     "metadata": {},
     "output_type": "execute_result"
    }
   ],
   "source": [
    "#Q7\n",
    "\"\"\"\n",
    ">> Image recognition\n",
    ">> speech recognition\n",
    ">> preditive analysis\n",
    ">> extraction\n",
    ">> statistical arbitrage\n",
    ">> medical diagnosis\n",
    "\"\"\""
   ]
  },
  {
   "cell_type": "code",
   "execution_count": 8,
   "id": "f184c53d",
   "metadata": {},
   "outputs": [
    {
     "name": "stdout",
     "output_type": "stream",
     "text": [
      "i have 3 sides\n",
      "i have 4 sides\n"
     ]
    }
   ],
   "source": [
    "#Q8\n",
    "\"\"\"\n",
    "Abstraction displays only the relevant attributes of objects and hides the unnecessary details\n",
    "\n",
    "\"\"\"\n",
    "#abstract class has both structure and code but we cannot create object \n",
    "\n",
    "from abc import ABC, abstractmethod\n",
    "\n",
    "class shapes(ABC):\n",
    "    @abstractmethod\n",
    "    def no_of_sides(self):\n",
    "        pass\n",
    "    \n",
    "class triangle(shapes):\n",
    "    def no_of_sides(self):\n",
    "        print(\"i have 3 sides\")\n",
    "        \n",
    "class square(shapes):\n",
    "    def no_of_sides(self):\n",
    "        print(\"i have 4 sides\")\n",
    "        \n",
    "shape1 = triangle()\n",
    "shape2 = square()\n",
    "  \n",
    "\n",
    "for i in (shape1,shape2):\n",
    "    i.no_of_sides()"
   ]
  },
  {
   "cell_type": "code",
   "execution_count": 9,
   "id": "574e3df1",
   "metadata": {},
   "outputs": [
    {
     "data": {
      "text/plain": [
       "'\\n>> In machine learning, generalization is a definition to demonstrate how well model is trained \\nto classify or forecast unseen data. \\nTraining a generalized model means it works for all subset of unseen data.\\n'"
      ]
     },
     "execution_count": 9,
     "metadata": {},
     "output_type": "execute_result"
    }
   ],
   "source": [
    "#Q9\n",
    "\"\"\"\n",
    ">> In machine learning, generalization is a definition to demonstrate how well model is trained \n",
    "to classify or forecast unseen data. \n",
    "Training a generalized model means it works for all subset of unseen data.\n",
    "\"\"\""
   ]
  },
  {
   "cell_type": "code",
   "execution_count": 10,
   "id": "a7db0ffb",
   "metadata": {},
   "outputs": [
    {
     "data": {
      "text/plain": [
       "'\\n>> Classification refers to a predictive modeling problem where a class label is predicted for a given example of input data.\\nIn regression the output is a continuous or numerical value.\\nIn classification the output is a discrete or categorical value\\n'"
      ]
     },
     "execution_count": 10,
     "metadata": {},
     "output_type": "execute_result"
    }
   ],
   "source": [
    "#Q10\n",
    "\"\"\"\n",
    ">> Classification refers to a predictive modeling problem where a class label is predicted for a given example of input data.\n",
    "In regression the output is a continuous or numerical value.\n",
    "In classification the output is a discrete or categorical value\n",
    "\"\"\""
   ]
  },
  {
   "cell_type": "code",
   "execution_count": 11,
   "id": "9bd316ec",
   "metadata": {},
   "outputs": [
    {
     "data": {
      "text/plain": [
       "'\\nIt works by using an independent variable to predict the values of dependent variable.\\nIt is used to obtain an equation from the training datasets which can then be used to predict the values of testing dataset.\\n\\n>> Business often use linear regression to understand relationship between advertising spending and revenue.\\n>> Agricultural scientist often use linear regression to measure the effect of fertilizer and water on crop yields.\\n'"
      ]
     },
     "execution_count": 11,
     "metadata": {},
     "output_type": "execute_result"
    }
   ],
   "source": [
    "#Q11\n",
    "\"\"\"\n",
    "It works by using an independent variable to predict the values of dependent variable.\n",
    "It is used to obtain an equation from the training datasets which can then be used to predict the values of testing dataset.\n",
    "\n",
    ">> Business often use linear regression to understand relationship between advertising spending and revenue.\n",
    ">> Agricultural scientist often use linear regression to measure the effect of fertilizer and water on crop yields.\n",
    "\"\"\""
   ]
  },
  {
   "cell_type": "code",
   "execution_count": 12,
   "id": "9976a34f",
   "metadata": {},
   "outputs": [
    {
     "data": {
      "text/plain": [
       "'\\nClustring is the task of dividing the data points into groups such that data points in the same groups are more similar\\nto other data points in the same group than those in other groups.\\n'"
      ]
     },
     "execution_count": 12,
     "metadata": {},
     "output_type": "execute_result"
    }
   ],
   "source": [
    "#Q12\n",
    "\"\"\"\n",
    "Clustring is the task of dividing the data points into groups such that data points in the same groups are more similar\n",
    "to other data points in the same group than those in other groups.\n",
    "\"\"\""
   ]
  },
  {
   "cell_type": "code",
   "execution_count": 13,
   "id": "7c05db6f",
   "metadata": {},
   "outputs": [
    {
     "data": {
      "text/plain": [
       "\"\\n1. Machine learning algorithms are used \\n>> K-nerest neighbor - classification\\nnaive bayes - classification\\nSVM(support vector machine) - classification\\nLinear regression - classification/regression\\nrandom forest - classification/regression\\nk-means - clustring\\nPCA(principal component analysis) - dimensionality reduction\\n\\n2. Studying under supervision\\n>> supersivion is a creative and dynamic technical service\\nIt provides leadership with expert knowledge and superior skills.\\nIt gives coordination, direction and guidence to teacher's activities.\\nIt stimulates the continuous growth of teachers and development of pupils\\n\""
      ]
     },
     "execution_count": 13,
     "metadata": {},
     "output_type": "execute_result"
    }
   ],
   "source": [
    "#Q13\n",
    "\"\"\"\n",
    "1. Machine learning algorithms are used \n",
    ">> K-nerest neighbor - classification\n",
    "naive bayes - classification\n",
    "SVM(support vector machine) - classification\n",
    "Linear regression - classification/regression\n",
    "random forest - classification/regression\n",
    "k-means - clustring\n",
    "PCA(principal component analysis) - dimensionality reduction\n",
    "\n",
    "2. Studying under supervision\n",
    ">> supersivion is a creative and dynamic technical service\n",
    "It provides leadership with expert knowledge and superior skills.\n",
    "It gives coordination, direction and guidence to teacher's activities.\n",
    "It stimulates the continuous growth of teachers and development of pupils\n",
    "\"\"\""
   ]
  },
  {
   "cell_type": "code",
   "execution_count": null,
   "id": "93eab08b",
   "metadata": {},
   "outputs": [],
   "source": []
  }
 ],
 "metadata": {
  "kernelspec": {
   "display_name": "Python 3 (ipykernel)",
   "language": "python",
   "name": "python3"
  },
  "language_info": {
   "codemirror_mode": {
    "name": "ipython",
    "version": 3
   },
   "file_extension": ".py",
   "mimetype": "text/x-python",
   "name": "python",
   "nbconvert_exporter": "python",
   "pygments_lexer": "ipython3",
   "version": "3.10.9"
  }
 },
 "nbformat": 4,
 "nbformat_minor": 5
}
